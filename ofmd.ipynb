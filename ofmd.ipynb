{
 "cells": [
  {
   "cell_type": "code",
   "execution_count": 2,
   "metadata": {},
   "outputs": [],
   "source": [
    "from structs.fanworks import FicLibrary\n",
    "from scrapers.ao3 import fic_fields, to_list, load_works\n",
    "import pandas as pd\n",
    "import numpy as np\n",
    "from sklearn.model_selection import train_test_split\n",
    "from sklearn.linear_model import LinearRegression\n",
    "from sklearn.preprocessing import OneHotEncoder\n",
    "from sklearn.metrics import mean_squared_error, r2_score\n",
    "import matplotlib.pyplot as plt\n",
    "plt.style.use(\"gruvbox.mplstyle\")\n",
    "ofmd=FicLibrary.from_dataframe(load_works(\"Our Flag Means Death (TV)\"))\n"
   ]
  },
  {
   "cell_type": "markdown",
   "metadata": {},
   "source": [
    "## Popular Tags and Fic Popularity"
   ]
  },
  {
   "cell_type": "code",
   "execution_count": 18,
   "metadata": {},
   "outputs": [],
   "source": [
    "ofmd[\"hits\"]=ofmd[\"hits\"].apply(lambda x: 0 if x==\"\" else float(x))\n",
    "ofmd[\"kudos\"]=ofmd[\"kudos\"].apply(lambda x: 0 if x==\"\" else float(x))\n",
    "ofmd[\"approval\"]=ofmd[\"kudos\"]/ofmd[\"hits\"]"
   ]
  },
  {
   "cell_type": "code",
   "execution_count": 28,
   "metadata": {},
   "outputs": [
    {
     "name": "stdout",
     "output_type": "stream",
     "text": [
      "The r2 is:  0.0702668295490384\n",
      "The rmse is:  3806.5104632379603\n"
     ]
    }
   ],
   "source": [
    "predictions = model.predict(X_test)\n",
    "r2 = r2_score(y_test, predictions)\n",
    "rmse = mean_squared_error(y_test, predictions, squared=False)\n",
    "\n",
    "print('The r2 is: ', r2)\n",
    "print('The rmse is: ', rmse)"
   ]
  },
  {
   "cell_type": "code",
   "execution_count": null,
   "metadata": {},
   "outputs": [],
   "source": [
    "v=np.array(data[\"rating\"])"
   ]
  },
  {
   "cell_type": "code",
   "execution_count": null,
   "metadata": {},
   "outputs": [
    {
     "data": {
      "text/plain": [
       "array([['Teen And Up Audiences'],\n",
       "       ['Teen And Up Audiences'],\n",
       "       ['General Audiences'],\n",
       "       ...,\n",
       "       ['General Audiences'],\n",
       "       ['Teen And Up Audiences'],\n",
       "       ['General Audiences']], dtype=object)"
      ]
     },
     "execution_count": 61,
     "metadata": {},
     "output_type": "execute_result"
    }
   ],
   "source": [
    "v.reshape(-1,1)"
   ]
  },
  {
   "cell_type": "code",
   "execution_count": null,
   "metadata": {},
   "outputs": [],
   "source": [
    "a=OneHotEncoder()"
   ]
  },
  {
   "cell_type": "code",
   "execution_count": null,
   "metadata": {},
   "outputs": [],
   "source": [
    "tf=a.fit_transform(v.reshape(-1,1))"
   ]
  },
  {
   "cell_type": "code",
   "execution_count": null,
   "metadata": {},
   "outputs": [],
   "source": [
    "X=tf\n",
    "y=ofmd[\"hits\"]\n",
    "\n",
    "X_train, X_test, y_train, y_test = train_test_split(X, y, shuffle=True, train_size=0.7)"
   ]
  },
  {
   "cell_type": "code",
   "execution_count": null,
   "metadata": {},
   "outputs": [
    {
     "data": {
      "text/html": [
       "<style>#sk-container-id-8 {color: black;}#sk-container-id-8 pre{padding: 0;}#sk-container-id-8 div.sk-toggleable {background-color: white;}#sk-container-id-8 label.sk-toggleable__label {cursor: pointer;display: block;width: 100%;margin-bottom: 0;padding: 0.3em;box-sizing: border-box;text-align: center;}#sk-container-id-8 label.sk-toggleable__label-arrow:before {content: \"▸\";float: left;margin-right: 0.25em;color: #696969;}#sk-container-id-8 label.sk-toggleable__label-arrow:hover:before {color: black;}#sk-container-id-8 div.sk-estimator:hover label.sk-toggleable__label-arrow:before {color: black;}#sk-container-id-8 div.sk-toggleable__content {max-height: 0;max-width: 0;overflow: hidden;text-align: left;background-color: #f0f8ff;}#sk-container-id-8 div.sk-toggleable__content pre {margin: 0.2em;color: black;border-radius: 0.25em;background-color: #f0f8ff;}#sk-container-id-8 input.sk-toggleable__control:checked~div.sk-toggleable__content {max-height: 200px;max-width: 100%;overflow: auto;}#sk-container-id-8 input.sk-toggleable__control:checked~label.sk-toggleable__label-arrow:before {content: \"▾\";}#sk-container-id-8 div.sk-estimator input.sk-toggleable__control:checked~label.sk-toggleable__label {background-color: #d4ebff;}#sk-container-id-8 div.sk-label input.sk-toggleable__control:checked~label.sk-toggleable__label {background-color: #d4ebff;}#sk-container-id-8 input.sk-hidden--visually {border: 0;clip: rect(1px 1px 1px 1px);clip: rect(1px, 1px, 1px, 1px);height: 1px;margin: -1px;overflow: hidden;padding: 0;position: absolute;width: 1px;}#sk-container-id-8 div.sk-estimator {font-family: monospace;background-color: #f0f8ff;border: 1px dotted black;border-radius: 0.25em;box-sizing: border-box;margin-bottom: 0.5em;}#sk-container-id-8 div.sk-estimator:hover {background-color: #d4ebff;}#sk-container-id-8 div.sk-parallel-item::after {content: \"\";width: 100%;border-bottom: 1px solid gray;flex-grow: 1;}#sk-container-id-8 div.sk-label:hover label.sk-toggleable__label {background-color: #d4ebff;}#sk-container-id-8 div.sk-serial::before {content: \"\";position: absolute;border-left: 1px solid gray;box-sizing: border-box;top: 0;bottom: 0;left: 50%;z-index: 0;}#sk-container-id-8 div.sk-serial {display: flex;flex-direction: column;align-items: center;background-color: white;padding-right: 0.2em;padding-left: 0.2em;position: relative;}#sk-container-id-8 div.sk-item {position: relative;z-index: 1;}#sk-container-id-8 div.sk-parallel {display: flex;align-items: stretch;justify-content: center;background-color: white;position: relative;}#sk-container-id-8 div.sk-item::before, #sk-container-id-8 div.sk-parallel-item::before {content: \"\";position: absolute;border-left: 1px solid gray;box-sizing: border-box;top: 0;bottom: 0;left: 50%;z-index: -1;}#sk-container-id-8 div.sk-parallel-item {display: flex;flex-direction: column;z-index: 1;position: relative;background-color: white;}#sk-container-id-8 div.sk-parallel-item:first-child::after {align-self: flex-end;width: 50%;}#sk-container-id-8 div.sk-parallel-item:last-child::after {align-self: flex-start;width: 50%;}#sk-container-id-8 div.sk-parallel-item:only-child::after {width: 0;}#sk-container-id-8 div.sk-dashed-wrapped {border: 1px dashed gray;margin: 0 0.4em 0.5em 0.4em;box-sizing: border-box;padding-bottom: 0.4em;background-color: white;}#sk-container-id-8 div.sk-label label {font-family: monospace;font-weight: bold;display: inline-block;line-height: 1.2em;}#sk-container-id-8 div.sk-label-container {text-align: center;}#sk-container-id-8 div.sk-container {/* jupyter's `normalize.less` sets `[hidden] { display: none; }` but bootstrap.min.css set `[hidden] { display: none !important; }` so we also need the `!important` here to be able to override the default hidden behavior on the sphinx rendered scikit-learn.org. See: https://github.com/scikit-learn/scikit-learn/issues/21755 */display: inline-block !important;position: relative;}#sk-container-id-8 div.sk-text-repr-fallback {display: none;}</style><div id=\"sk-container-id-8\" class=\"sk-top-container\"><div class=\"sk-text-repr-fallback\"><pre>LinearRegression(fit_intercept=False)</pre><b>In a Jupyter environment, please rerun this cell to show the HTML representation or trust the notebook. <br />On GitHub, the HTML representation is unable to render, please try loading this page with nbviewer.org.</b></div><div class=\"sk-container\" hidden><div class=\"sk-item\"><div class=\"sk-estimator sk-toggleable\"><input class=\"sk-toggleable__control sk-hidden--visually\" id=\"sk-estimator-id-8\" type=\"checkbox\" checked><label for=\"sk-estimator-id-8\" class=\"sk-toggleable__label sk-toggleable__label-arrow\">LinearRegression</label><div class=\"sk-toggleable__content\"><pre>LinearRegression(fit_intercept=False)</pre></div></div></div></div></div>"
      ],
      "text/plain": [
       "LinearRegression(fit_intercept=False)"
      ]
     },
     "execution_count": 80,
     "metadata": {},
     "output_type": "execute_result"
    }
   ],
   "source": [
    "model.fit(X_train, y_train)"
   ]
  },
  {
   "cell_type": "code",
   "execution_count": null,
   "metadata": {},
   "outputs": [
    {
     "name": "stdout",
     "output_type": "stream",
     "text": [
      "The r2 is:  0.034556355840471786\n",
      "The rmse is:  4089.7194169457507\n"
     ]
    }
   ],
   "source": [
    "predictions = model.predict(X_test)\n",
    "r2 = r2_score(y_test, predictions)\n",
    "rmse = mean_squared_error(y_test, predictions, squared=False)\n",
    "\n",
    "print('The r2 is: ', r2)\n",
    "print('The rmse is: ', rmse)"
   ]
  },
  {
   "cell_type": "code",
   "execution_count": 53,
   "metadata": {},
   "outputs": [],
   "source": [
    "ts={t:tags[t].value_counts()[1.0] for t in tags.columns}"
   ]
  },
  {
   "cell_type": "code",
   "execution_count": 54,
   "metadata": {},
   "outputs": [],
   "source": [
    "f=pd.DataFrame.from_records([ {\"tag\": t[0], \"count\": t[1]} for t in ts.items()])"
   ]
  },
  {
   "cell_type": "code",
   "execution_count": 60,
   "metadata": {},
   "outputs": [],
   "source": [
    "d=f.sort_values(by=\"count\", ascending=False).to_dict(orient=\"records\")"
   ]
  },
  {
   "cell_type": "code",
   "execution_count": 61,
   "metadata": {},
   "outputs": [],
   "source": [
    "data[\"hits\"]=data[\"hits\"].map(lambda x: float(x) if x !=\"\" else 0)\n",
    "data[\"kudos\"]=data[\"kudos\"].map(lambda x: float(x) if x !=\"\" else 0)\n"
   ]
  },
  {
   "cell_type": "code",
   "execution_count": 62,
   "metadata": {},
   "outputs": [],
   "source": [
    "for rec in d:\n",
    "    rec[\"avg_hits\"]=data[data[rec[\"tag\"]]==1.0][\"hits\"].sum()/rec[\"count\"]\n",
    "    rec[\"avg_kudos\"]=data[data[rec[\"tag\"]]==1.0][\"kudos\"].sum()/rec[\"count\"]"
   ]
  },
  {
   "cell_type": "code",
   "execution_count": 65,
   "metadata": {},
   "outputs": [],
   "source": [
    "avg_hits=data[\"hits\"].sum()/len(data)\n",
    "avg_kudos=data[\"kudos\"].sum()/len(data)"
   ]
  },
  {
   "cell_type": "code",
   "execution_count": 66,
   "metadata": {},
   "outputs": [],
   "source": [
    "tags=[a[\"tag\"] for a in d]"
   ]
  },
  {
   "cell_type": "code",
   "execution_count": 40,
   "metadata": {},
   "outputs": [],
   "source": [
    "angst=data[data[\"Angst\"]==1.0]"
   ]
  },
  {
   "cell_type": "code",
   "execution_count": 71,
   "metadata": {},
   "outputs": [],
   "source": [
    "t=[a[\"tag\"] for a in d]\n",
    "pop=[a['count'] for a in d]\n",
    "hits=[a['avg_hits'] for a in d]"
   ]
  },
  {
   "cell_type": "code",
   "execution_count": 73,
   "metadata": {},
   "outputs": [
    {
     "data": {
      "text/plain": [
       "<BarContainer object of 665 artists>"
      ]
     },
     "execution_count": 73,
     "metadata": {},
     "output_type": "execute_result"
    },
    {
     "data": {
      "image/png": "[encoded data removed]",
      "text/plain": [
       "<Figure size 640x480 with 1 Axes>"
      ]
     },
     "metadata": {},
     "output_type": "display_data"
    }
   ],
   "source": [
    "plt.bar(t, hits)"
   ]
  },
  {
   "cell_type": "markdown",
   "metadata": {},
   "source": [
    "## The Big Model"
   ]
  },
  {
   "cell_type": "code",
   "execution_count": 2,
   "metadata": {},
   "outputs": [
    {
     "data": {
      "text/plain": [
       "title                                                   Lovely Letters\n",
       "authors                                        [<User [kookaburrito]>]\n",
       "categories                                                       [M/M]\n",
       "rating                                           Teen And Up Audiences\n",
       "warnings                                   [No Archive Warnings Apply]\n",
       "relationships                 [Blackbeard | Edward Teach/Stede Bonnet]\n",
       "tags                 [Canon Compliant, Alternate Canon, Letters, Lo...\n",
       "id                                                            51314557\n",
       "hits                                                                 4\n",
       "kudos                                                                 \n",
       "bookmarks                                                             \n",
       "complete                                                          True\n",
       "date_updated                                                2023-11-02\n",
       "expected_chapters                                                  1.0\n",
       "nchapters                                                            1\n",
       "language                                                       English\n",
       "series                                                              []\n",
       "summary              \\nSlightly canon divergent / canon filler AUEd...\n",
       "fandoms                                    [Our Flag Means Death (TV)]\n",
       "words                                                           5383.0\n",
       "comments                                                              \n",
       "Name: 0, dtype: object"
      ]
     },
     "execution_count": 2,
     "metadata": {},
     "output_type": "execute_result"
    }
   ],
   "source": [
    "example=ofmd.iloc[0]\n",
    "example"
   ]
  },
  {
   "cell_type": "code",
   "execution_count": 20,
   "metadata": {},
   "outputs": [],
   "source": [
    "def simple_model(fics, features, targets):\n",
    "    for f in features:\n",
    "        fics[f] = fics[f].apply(lambda x: 0 if x == \"\" else float(x))\n",
    "    fics.fillna(value=0.0, inplace=True)\n",
    "    fics.replace([np.inf, -np.inf], 0.0, inplace=True)\n",
    "    model = LinearRegression()\n",
    "    X = fics[targets]\n",
    "    y = fics[features]\n",
    "    X_train, X_test, y_train, y_test = train_test_split(\n",
    "        X, y, shuffle=True, train_size=0.7\n",
    "    )\n",
    "    model.fit(X_train, y_train)\n",
    "    return model, X_test, y_test\n",
    "\n",
    "def numberize(fics, column):\n",
    "    return fics[column].apply(lambda x: 0 if x == \"\" else float(x))"
   ]
  },
  {
   "cell_type": "code",
   "execution_count": 21,
   "metadata": {},
   "outputs": [
    {
     "name": "stderr",
     "output_type": "stream",
     "text": [
      "/home/ehudson/projects/fanficStats/.venv/lib/python3.11/site-packages/pandas/core/arraylike.py:396: RuntimeWarning: divide by zero encountered in log\n",
      "  result = getattr(ufunc, method)(*inputs, **kwargs)\n"
     ]
    }
   ],
   "source": [
    "fics=FicLibrary.from_dataframe(load_works(\"Our Flag Means Death (TV)\"))\n",
    "features=[\"kudos\", \"expected_chapters\", \"nchapters\", \"words\", \"comments\"]\n",
    "target=[\"hits\"]\n",
    "\n",
    "fics[\"hits\"]=numberize(fics, \"hits\")\n",
    "fics[\"hits\"]=np.log(fics[\"hits\"])\n",
    "\n",
    "model, X_test, y_test=simple_model(fics, features, target)"
   ]
  },
  {
   "cell_type": "markdown",
   "metadata": {},
   "source": [
    "y_pred = model.predict(X_test)\n",
    "rmse = mean_squared_error(y_test, y_pred)\n",
    "r2 = r2_score(y_test, y_pred)\n",
    "plt.hist(np.e**y_pred, bins=100, range=(0,200))\n",
    "plt.hist(np.e**y_test, alpha=0.5, bins=100, range=(0,200))"
   ]
  },
  {
   "cell_type": "markdown",
   "metadata": {},
   "source": [
    "## Troubleshooting"
   ]
  },
  {
   "cell_type": "code",
   "execution_count": 3,
   "metadata": {},
   "outputs": [],
   "source": [
    "def make_numerical(data):\n",
    "    numeric=[\"hits\", \"kudos\", \"bookmarks\", \"expected_chapters\", \"nchapters\", \"words\", \"comments\"]\n",
    "    for n in numeric:\n",
    "        data[n]=data[n].map(lambda x: 0 if x=='' else int(float(x)))"
   ]
  },
  {
   "cell_type": "code",
   "execution_count": 3,
   "metadata": {},
   "outputs": [],
   "source": [
    "def make_graphs(data):\n",
    "    targets=[d for d in data.dtypes.to_dict().keys() if data.dtypes[d] == np.dtype(\"int64\")]\n",
    "    sets=[]\n",
    "    for t in targets:\n",
    "        for v in targets:\n",
    "            rel=set([t, v])\n",
    "            if (rel not in sets):\n",
    "                plt.scatter(np.log(data[t]), np.log(data[v]))\n",
    "                plt.xlabel(t)\n",
    "                plt.ylabel(v)\n",
    "                plt.xticks([])\n",
    "                plt.yticks([])\n",
    "                plt.savefig(f'./graphs/{t}_{v}')\n",
    "                plt.show()\n",
    "                sets.append(rel)\n",
    "            \n"
   ]
  },
  {
   "cell_type": "code",
   "execution_count": 4,
   "metadata": {},
   "outputs": [],
   "source": [
    "def make_log(fics, features):\n",
    "    for feature in features:\n",
    "        fics[feature+\"_log\"]=np.log2(fics[feature])\n",
    "    fics.replace(to_replace=-np.inf, value=np.float64(-1), inplace=True)"
   ]
  },
  {
   "cell_type": "code",
   "execution_count": 5,
   "metadata": {},
   "outputs": [
    {
     "name": "stderr",
     "output_type": "stream",
     "text": [
      "/home/ehudson/projects/fanficStats/.venv/lib/python3.11/site-packages/pandas/core/arraylike.py:396: RuntimeWarning: divide by zero encountered in log2\n",
      "  result = getattr(ufunc, method)(*inputs, **kwargs)\n",
      "/home/ehudson/projects/fanficStats/.venv/lib/python3.11/site-packages/pandas/core/arraylike.py:396: RuntimeWarning: divide by zero encountered in log2\n",
      "  result = getattr(ufunc, method)(*inputs, **kwargs)\n",
      "/home/ehudson/projects/fanficStats/.venv/lib/python3.11/site-packages/pandas/core/arraylike.py:396: RuntimeWarning: divide by zero encountered in log2\n",
      "  result = getattr(ufunc, method)(*inputs, **kwargs)\n",
      "/home/ehudson/projects/fanficStats/.venv/lib/python3.11/site-packages/pandas/core/arraylike.py:396: RuntimeWarning: divide by zero encountered in log2\n",
      "  result = getattr(ufunc, method)(*inputs, **kwargs)\n",
      "/home/ehudson/projects/fanficStats/.venv/lib/python3.11/site-packages/pandas/core/arraylike.py:396: RuntimeWarning: divide by zero encountered in log2\n",
      "  result = getattr(ufunc, method)(*inputs, **kwargs)\n",
      "/home/ehudson/projects/fanficStats/.venv/lib/python3.11/site-packages/pandas/core/arraylike.py:396: RuntimeWarning: divide by zero encountered in log2\n",
      "  result = getattr(ufunc, method)(*inputs, **kwargs)\n",
      "/home/ehudson/projects/fanficStats/.venv/lib/python3.11/site-packages/pandas/core/arraylike.py:396: RuntimeWarning: divide by zero encountered in log2\n",
      "  result = getattr(ufunc, method)(*inputs, **kwargs)\n"
     ]
    }
   ],
   "source": [
    "model = LinearRegression()\n",
    "features=[\"kudos\", \"hits\", \"bookmarks\", \"expected_chapters\", \"nchapters\", \"words\", \"comments\"]\n",
    "make_numerical(ofmd)\n",
    "make_log(ofmd, features)\n"
   ]
  },
  {
   "cell_type": "code",
   "execution_count": 5,
   "metadata": {},
   "outputs": [
    {
     "data": {
      "text/plain": [
       "title                     object\n",
       "authors                   object\n",
       "categories                object\n",
       "rating                    object\n",
       "warnings                  object\n",
       "relationships             object\n",
       "tags                      object\n",
       "id                        object\n",
       "hits                       int64\n",
       "kudos                      int64\n",
       "bookmarks                  int64\n",
       "complete                    bool\n",
       "date_updated              object\n",
       "expected_chapters          int64\n",
       "nchapters                  int64\n",
       "language                  object\n",
       "series                    object\n",
       "summary                   object\n",
       "fandoms                   object\n",
       "words                      int64\n",
       "comments                   int64\n",
       "kudos_log                float64\n",
       "hits_log                 float64\n",
       "bookmarks_log            float64\n",
       "expected_chapters_log    float64\n",
       "nchapters_log            float64\n",
       "words_log                float64\n",
       "comments_log             float64\n",
       "dtype: object"
      ]
     },
     "execution_count": 5,
     "metadata": {},
     "output_type": "execute_result"
    }
   ],
   "source": [
    "ofmd.dtypes"
   ]
  },
  {
   "cell_type": "code",
   "execution_count": 11,
   "metadata": {},
   "outputs": [
    {
     "data": {
      "text/html": [
       "<style>#sk-container-id-2 {color: black;}#sk-container-id-2 pre{padding: 0;}#sk-container-id-2 div.sk-toggleable {background-color: white;}#sk-container-id-2 label.sk-toggleable__label {cursor: pointer;display: block;width: 100%;margin-bottom: 0;padding: 0.3em;box-sizing: border-box;text-align: center;}#sk-container-id-2 label.sk-toggleable__label-arrow:before {content: \"▸\";float: left;margin-right: 0.25em;color: #696969;}#sk-container-id-2 label.sk-toggleable__label-arrow:hover:before {color: black;}#sk-container-id-2 div.sk-estimator:hover label.sk-toggleable__label-arrow:before {color: black;}#sk-container-id-2 div.sk-toggleable__content {max-height: 0;max-width: 0;overflow: hidden;text-align: left;background-color: #f0f8ff;}#sk-container-id-2 div.sk-toggleable__content pre {margin: 0.2em;color: black;border-radius: 0.25em;background-color: #f0f8ff;}#sk-container-id-2 input.sk-toggleable__control:checked~div.sk-toggleable__content {max-height: 200px;max-width: 100%;overflow: auto;}#sk-container-id-2 input.sk-toggleable__control:checked~label.sk-toggleable__label-arrow:before {content: \"▾\";}#sk-container-id-2 div.sk-estimator input.sk-toggleable__control:checked~label.sk-toggleable__label {background-color: #d4ebff;}#sk-container-id-2 div.sk-label input.sk-toggleable__control:checked~label.sk-toggleable__label {background-color: #d4ebff;}#sk-container-id-2 input.sk-hidden--visually {border: 0;clip: rect(1px 1px 1px 1px);clip: rect(1px, 1px, 1px, 1px);height: 1px;margin: -1px;overflow: hidden;padding: 0;position: absolute;width: 1px;}#sk-container-id-2 div.sk-estimator {font-family: monospace;background-color: #f0f8ff;border: 1px dotted black;border-radius: 0.25em;box-sizing: border-box;margin-bottom: 0.5em;}#sk-container-id-2 div.sk-estimator:hover {background-color: #d4ebff;}#sk-container-id-2 div.sk-parallel-item::after {content: \"\";width: 100%;border-bottom: 1px solid gray;flex-grow: 1;}#sk-container-id-2 div.sk-label:hover label.sk-toggleable__label {background-color: #d4ebff;}#sk-container-id-2 div.sk-serial::before {content: \"\";position: absolute;border-left: 1px solid gray;box-sizing: border-box;top: 0;bottom: 0;left: 50%;z-index: 0;}#sk-container-id-2 div.sk-serial {display: flex;flex-direction: column;align-items: center;background-color: white;padding-right: 0.2em;padding-left: 0.2em;position: relative;}#sk-container-id-2 div.sk-item {position: relative;z-index: 1;}#sk-container-id-2 div.sk-parallel {display: flex;align-items: stretch;justify-content: center;background-color: white;position: relative;}#sk-container-id-2 div.sk-item::before, #sk-container-id-2 div.sk-parallel-item::before {content: \"\";position: absolute;border-left: 1px solid gray;box-sizing: border-box;top: 0;bottom: 0;left: 50%;z-index: -1;}#sk-container-id-2 div.sk-parallel-item {display: flex;flex-direction: column;z-index: 1;position: relative;background-color: white;}#sk-container-id-2 div.sk-parallel-item:first-child::after {align-self: flex-end;width: 50%;}#sk-container-id-2 div.sk-parallel-item:last-child::after {align-self: flex-start;width: 50%;}#sk-container-id-2 div.sk-parallel-item:only-child::after {width: 0;}#sk-container-id-2 div.sk-dashed-wrapped {border: 1px dashed gray;margin: 0 0.4em 0.5em 0.4em;box-sizing: border-box;padding-bottom: 0.4em;background-color: white;}#sk-container-id-2 div.sk-label label {font-family: monospace;font-weight: bold;display: inline-block;line-height: 1.2em;}#sk-container-id-2 div.sk-label-container {text-align: center;}#sk-container-id-2 div.sk-container {/* jupyter's `normalize.less` sets `[hidden] { display: none; }` but bootstrap.min.css set `[hidden] { display: none !important; }` so we also need the `!important` here to be able to override the default hidden behavior on the sphinx rendered scikit-learn.org. See: https://github.com/scikit-learn/scikit-learn/issues/21755 */display: inline-block !important;position: relative;}#sk-container-id-2 div.sk-text-repr-fallback {display: none;}</style><div id=\"sk-container-id-2\" class=\"sk-top-container\"><div class=\"sk-text-repr-fallback\"><pre>LinearRegression()</pre><b>In a Jupyter environment, please rerun this cell to show the HTML representation or trust the notebook. <br />On GitHub, the HTML representation is unable to render, please try loading this page with nbviewer.org.</b></div><div class=\"sk-container\" hidden><div class=\"sk-item\"><div class=\"sk-estimator sk-toggleable\"><input class=\"sk-toggleable__control sk-hidden--visually\" id=\"sk-estimator-id-2\" type=\"checkbox\" checked><label for=\"sk-estimator-id-2\" class=\"sk-toggleable__label sk-toggleable__label-arrow\">LinearRegression</label><div class=\"sk-toggleable__content\"><pre>LinearRegression()</pre></div></div></div></div></div>"
      ],
      "text/plain": [
       "LinearRegression()"
      ]
     },
     "execution_count": 11,
     "metadata": {},
     "output_type": "execute_result"
    }
   ],
   "source": [
    "y=ofmd[[\"kudos_log\"]]\n",
    "X=ofmd[[\"hits\", \"hits_log\", \"comments\", \"comments_log\", \"nchapters\", \"nchapters_log\"]]\n",
    "X_train, X_test, y_train, y_test = train_test_split(X, y, shuffle=True, train_size=0.7)\n",
    "model.fit(X_train, y_train)"
   ]
  },
  {
   "cell_type": "markdown",
   "metadata": {},
   "source": [
    "y=kudos\n",
    "x=hits\n",
    "m=coefficient\n",
    "b=intercept (where X is 0, y is...)"
   ]
  },
  {
   "cell_type": "code",
   "execution_count": null,
   "metadata": {},
   "outputs": [
    {
     "data": {
      "text/plain": [
       "0.6615669973644743"
      ]
     },
     "execution_count": 10,
     "metadata": {},
     "output_type": "execute_result"
    }
   ],
   "source": [
    "sum(ofmd[\"kudos_log\"])/sum(ofmd[\"hits_log\"])"
   ]
  },
  {
   "cell_type": "code",
   "execution_count": 13,
   "metadata": {},
   "outputs": [
    {
     "name": "stdout",
     "output_type": "stream",
     "text": [
      "[[-8.41962739e-07  8.48837131e-01 -5.80294850e-04  2.44475181e-01\n",
      "   4.27089506e-03 -4.31387629e-01]] [-2.28326191]\n"
     ]
    }
   ],
   "source": [
    "print(model.coef_, model.intercept_)"
   ]
  },
  {
   "cell_type": "code",
   "execution_count": 12,
   "metadata": {},
   "outputs": [
    {
     "name": "stdout",
     "output_type": "stream",
     "text": [
      "RMSE: 0.41850119525135876 \n",
      " R2: 0.899894658686741\n"
     ]
    }
   ],
   "source": [
    "y_pred=model.predict(X_test)\n",
    "y_pred_df=pd.DataFrame(columns=[\"kudos_log\"], data=y_pred)\n",
    "y_test_df=pd.DataFrame(columns=[\"kudos_log\"], data=y_test)\n",
    "r2=r2_score(y_test, y_pred)\n",
    "rmse=mean_squared_error(y_test, y_pred)\n",
    "print(f'RMSE: {rmse} \\n R2: {r2}')\n"
   ]
  },
  {
   "cell_type": "code",
   "execution_count": null,
   "metadata": {},
   "outputs": [
    {
     "data": {
      "text/plain": [
       "(7407, 7407)"
      ]
     },
     "execution_count": 21,
     "metadata": {},
     "output_type": "execute_result"
    }
   ],
   "source": [
    "len(y_pred_df), len(y_test_df)"
   ]
  },
  {
   "cell_type": "code",
   "execution_count": null,
   "metadata": {},
   "outputs": [],
   "source": [
    "yp=2**y_pred\n"
   ]
  },
  {
   "cell_type": "code",
   "execution_count": null,
   "metadata": {},
   "outputs": [
    {
     "data": {
      "text/plain": [
       "array([[813.18249362],\n",
       "       [ 39.62361207],\n",
       "       [ 10.74391595],\n",
       "       ...,\n",
       "       [ 64.99132181],\n",
       "       [ 46.90748655],\n",
       "       [  7.10398281]])"
      ]
     },
     "execution_count": 15,
     "metadata": {},
     "output_type": "execute_result"
    }
   ],
   "source": [
    "yp"
   ]
  },
  {
   "cell_type": "code",
   "execution_count": 14,
   "metadata": {},
   "outputs": [
    {
     "data": {
      "text/plain": [
       "(array([4.512e+03, 1.360e+03, 5.700e+02, 3.100e+02, 1.930e+02, 1.290e+02,\n",
       "        7.600e+01, 6.100e+01, 3.900e+01, 3.000e+01, 1.700e+01, 1.700e+01,\n",
       "        1.300e+01, 1.700e+01, 4.000e+00, 3.000e+00, 3.000e+00, 4.000e+00,\n",
       "        7.000e+00, 2.000e+00, 4.000e+00, 4.000e+00, 3.000e+00, 4.000e+00,\n",
       "        1.000e+00, 1.000e+00, 2.000e+00, 3.000e+00, 2.000e+00, 0.000e+00,\n",
       "        2.000e+00, 0.000e+00, 0.000e+00, 1.000e+00, 0.000e+00, 0.000e+00,\n",
       "        1.000e+00, 1.000e+00, 0.000e+00, 0.000e+00, 0.000e+00, 0.000e+00,\n",
       "        0.000e+00, 0.000e+00, 2.000e+00, 0.000e+00, 2.000e+00, 1.000e+00,\n",
       "        0.000e+00, 0.000e+00, 0.000e+00, 0.000e+00, 0.000e+00, 0.000e+00,\n",
       "        0.000e+00, 0.000e+00, 1.000e+00, 0.000e+00, 0.000e+00, 0.000e+00,\n",
       "        0.000e+00, 0.000e+00, 0.000e+00, 0.000e+00, 0.000e+00, 0.000e+00,\n",
       "        0.000e+00, 0.000e+00, 0.000e+00, 0.000e+00, 0.000e+00, 0.000e+00,\n",
       "        0.000e+00, 1.000e+00, 1.000e+00, 0.000e+00, 0.000e+00, 1.000e+00,\n",
       "        0.000e+00, 0.000e+00, 0.000e+00, 0.000e+00, 0.000e+00, 0.000e+00,\n",
       "        1.000e+00, 0.000e+00, 0.000e+00, 0.000e+00, 0.000e+00, 0.000e+00,\n",
       "        0.000e+00, 0.000e+00, 0.000e+00, 0.000e+00, 0.000e+00, 0.000e+00,\n",
       "        0.000e+00, 0.000e+00, 0.000e+00, 1.000e+00]),\n",
       " array([5.0000000e-01, 1.1497500e+02, 2.2945000e+02, 3.4392500e+02,\n",
       "        4.5840000e+02, 5.7287500e+02, 6.8735000e+02, 8.0182500e+02,\n",
       "        9.1630000e+02, 1.0307750e+03, 1.1452500e+03, 1.2597250e+03,\n",
       "        1.3742000e+03, 1.4886750e+03, 1.6031500e+03, 1.7176250e+03,\n",
       "        1.8321000e+03, 1.9465750e+03, 2.0610500e+03, 2.1755250e+03,\n",
       "        2.2900000e+03, 2.4044750e+03, 2.5189500e+03, 2.6334250e+03,\n",
       "        2.7479000e+03, 2.8623750e+03, 2.9768500e+03, 3.0913250e+03,\n",
       "        3.2058000e+03, 3.3202750e+03, 3.4347500e+03, 3.5492250e+03,\n",
       "        3.6637000e+03, 3.7781750e+03, 3.8926500e+03, 4.0071250e+03,\n",
       "        4.1216000e+03, 4.2360750e+03, 4.3505500e+03, 4.4650250e+03,\n",
       "        4.5795000e+03, 4.6939750e+03, 4.8084500e+03, 4.9229250e+03,\n",
       "        5.0374000e+03, 5.1518750e+03, 5.2663500e+03, 5.3808250e+03,\n",
       "        5.4953000e+03, 5.6097750e+03, 5.7242500e+03, 5.8387250e+03,\n",
       "        5.9532000e+03, 6.0676750e+03, 6.1821500e+03, 6.2966250e+03,\n",
       "        6.4111000e+03, 6.5255750e+03, 6.6400500e+03, 6.7545250e+03,\n",
       "        6.8690000e+03, 6.9834750e+03, 7.0979500e+03, 7.2124250e+03,\n",
       "        7.3269000e+03, 7.4413750e+03, 7.5558500e+03, 7.6703250e+03,\n",
       "        7.7848000e+03, 7.8992750e+03, 8.0137500e+03, 8.1282250e+03,\n",
       "        8.2427000e+03, 8.3571750e+03, 8.4716500e+03, 8.5861250e+03,\n",
       "        8.7006000e+03, 8.8150750e+03, 8.9295500e+03, 9.0440250e+03,\n",
       "        9.1585000e+03, 9.2729750e+03, 9.3874500e+03, 9.5019250e+03,\n",
       "        9.6164000e+03, 9.7308750e+03, 9.8453500e+03, 9.9598250e+03,\n",
       "        1.0074300e+04, 1.0188775e+04, 1.0303250e+04, 1.0417725e+04,\n",
       "        1.0532200e+04, 1.0646675e+04, 1.0761150e+04, 1.0875625e+04,\n",
       "        1.0990100e+04, 1.1104575e+04, 1.1219050e+04, 1.1333525e+04,\n",
       "        1.1448000e+04]),\n",
       " <BarContainer object of 100 artists>)"
      ]
     },
     "execution_count": 14,
     "metadata": {},
     "output_type": "execute_result"
    },
    {
     "data": {
      "image/png": "[encoded data removed]",
      "text/plain": [
       "<Figure size 1400x800 with 1 Axes>"
      ]
     },
     "metadata": {},
     "output_type": "display_data"
    }
   ],
   "source": [
    "plt.hist(2**y_pred_df['kudos_log'], bins=100)\n",
    "plt.hist(2**y_test_df['kudos_log'], bins=100, color=\"red\", alpha=0.5)"
   ]
  },
  {
   "cell_type": "code",
   "execution_count": null,
   "metadata": {},
   "outputs": [],
   "source": []
  }
 ],
 "metadata": {
  "kernelspec": {
   "display_name": ".venv",
   "language": "python",
   "name": "python3"
  },
  "language_info": {
   "codemirror_mode": {
    "name": "ipython",
    "version": 3
   },
   "file_extension": ".py",
   "mimetype": "text/x-python",
   "name": "python",
   "nbconvert_exporter": "python",
   "pygments_lexer": "ipython3",
   "version": "3.11.4"
  }
 },
 "nbformat": 4,
 "nbformat_minor": 2
}
